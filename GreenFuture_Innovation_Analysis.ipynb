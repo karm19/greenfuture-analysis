
{
 "cells": [
  {
   "cell_type": "markdown",
   "metadata": {},
   "source": [
    "# 🌱 GreenFuture Innovation Analysis using R in Google Colab\n",
    "This notebook performs data analysis using SQL and R on the `greenfuture_ideas_dataset.csv` to support innovation decision-making at GreenFuture."
   ]
  },
  {
   "cell_type": "code",
   "execution_count": null,
   "metadata": {
    "colab": {
     "name": "R",
     "language": "R"
    }
   },
   "outputs": [],
   "source": [
    "# ✅ Install required packages\n",
    "install.packages("sqldf")\n",
    "install.packages("dplyr")\n",
    "install.packages("ggplot2")\n",
    "install.packages("lubridate")"
   ]
  },
  {
   "cell_type": "code",
   "execution_count": null,
   "metadata": {},
   "outputs": [],
   "source": [
    "# ✅ Load libraries\n",
    "library(sqldf)\n",
    "library(dplyr)\n",
    "library(ggplot2)\n",
    "library(lubridate)"
   ]
  },
  {
   "cell_type": "markdown",
   "metadata": {},
   "source": [
    "## 📥 Import Dataset from GitHub\n",
    "**Upload Instructions:**\n",
    "1. Upload `greenfuture_ideas_dataset.csv` to your GitHub repository.\n",
    "2. Copy the "Raw" file link and paste it below."
   ]
  },
  {
   "cell_type": "code",
   "execution_count": null,
   "metadata": {},
   "outputs": [],
   "source": [
    "# Replace with your actual raw GitHub URL\n",
    "data_url <- "https://raw.githubusercontent.com/yourusername/repo-name/main/greenfuture_ideas_dataset.csv"\n",
    "df <- read.csv(data_url)\n",
    "head(df)"
   ]
  },
  {
   "cell_type": "markdown",
   "metadata": {},
   "source": [
    "## 🔍 SQL Queries in R"
   ]
  },
  {
   "cell_type": "code",
   "execution_count": null,
   "metadata": {},
   "outputs": [],
   "source": [
    "# Total ideas by department\n",
    "sqldf("SELECT Department, COUNT(*) as Total_Ideas FROM df GROUP BY Department")"
   ]
  },
  {
   "cell_type": "code",
   "execution_count": null,
   "metadata": {},
   "outputs": [],
   "source": [
    "# Average votes per office\n",
    "sqldf("SELECT [Office Location], AVG([Number of Votes]) as Avg_Votes FROM df GROUP BY [Office Location]")"
   ]
  },
  {
   "cell_type": "markdown",
   "metadata": {},
   "source": [
    "## 🧹 Data Manipulation & Transformation"
   ]
  },
  {
   "cell_type": "code",
   "execution_count": null,
   "metadata": {},
   "outputs": [],
   "source": [
    "# Convert submission date\n",
    "df$Idea_Submission_Date <- dmy(df$Idea_Submission_Date)\n",
    "df <- df %>% mutate(Year = year(Idea_Submission_Date))\n",
    "head(df)"
   ]
  },
  {
   "cell_type": "markdown",
   "metadata": {},
   "source": [
    "## 📊 Data Visualization"
   ]
  },
  {
   "cell_type": "code",
   "execution_count": null,
   "metadata": {},
   "outputs": [],
   "source": [
    "# Ideas by Department\n",
    "ggplot(df, aes(x=Department)) + geom_bar(fill='steelblue') + theme_minimal() + ggtitle("Ideas by Department")"
   ]
  },
  {
   "cell_type": "code",
   "execution_count": null,
   "metadata": {},
   "outputs": [],
   "source": [
    "# Votes Distribution\n",
    "ggplot(df, aes(x=Number.of.Votes)) + geom_histogram(bins=20, fill='green') + ggtitle("Vote Distribution")"
   ]
  },
  {
   "cell_type": "code",
   "execution_count": null,
   "metadata": {},
   "outputs": [],
   "source": [
    "# Collaboration vs Approval\n",
    "ggplot(df, aes(x=Collaboration.Status, fill=Approval.Status)) + geom_bar(position='fill') + ggtitle("Collaboration vs Approval")"
   ]
  }
 ],
 "metadata": {
  "kernelspec": {
   "display_name": "R",
   "language": "R",
   "name": "ir"
  },
  "language_info": {
   "name": "R"
  }
 },
 "nbformat": 4,
 "nbformat_minor": 0
}
